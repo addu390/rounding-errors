{
 "cells": [
  {
   "cell_type": "code",
   "execution_count": 18,
   "id": "43160acd-6dad-4f3f-aa6e-fe9837afc5b3",
   "metadata": {},
   "outputs": [],
   "source": [
    "def error(iterable):\n",
    "    s = 0.0\n",
    "    for i in iterable:\n",
    "        s = s + i\n",
    "    return s"
   ]
  },
  {
   "cell_type": "code",
   "execution_count": 19,
   "id": "81c8907d-1983-47ed-83a8-f8de70175773",
   "metadata": {},
   "outputs": [],
   "source": [
    "def ksum(iterable):\n",
    "    s = 0.0\n",
    "    c = 0.0\n",
    "    for f in iterable:\n",
    "        y = f - c\n",
    "        t = s + y\n",
    "        c = (t - s) - y\n",
    "        s = t\n",
    "    return s"
   ]
  },
  {
   "cell_type": "code",
   "execution_count": 20,
   "id": "9df1ca62-4496-4c85-89a0-fb881de210ff",
   "metadata": {},
   "outputs": [],
   "source": [
    "def msum(iterable):\n",
    "    partials = []\n",
    "    for x in iterable:\n",
    "        i = 0\n",
    "        for y in partials:\n",
    "            if abs(x) < abs(y):\n",
    "                x, y = y, x\n",
    "            hi = x + y\n",
    "            lo = y - (hi - x)\n",
    "            if lo:\n",
    "                partials[i] = lo\n",
    "                i += 1\n",
    "            x = hi\n",
    "        partials[i:] = [x]\n",
    "    return sum(partials, 0.0)"
   ]
  },
  {
   "cell_type": "code",
   "execution_count": 21,
   "id": "64f57e5e-285a-429f-b591-90132f4c2f08",
   "metadata": {},
   "outputs": [],
   "source": [
    "from math import frexp\n",
    "\n",
    "def lsum(iterable):\n",
    "    tmant, texp = 0, 0\n",
    "    for x in iterable:\n",
    "        mant, exp = frexp(x)\n",
    "        mant, exp = int(mant * 2.0 ** 53), exp - 53\n",
    "        if texp > exp:\n",
    "            tmant <<= texp - exp\n",
    "            texp = exp\n",
    "        else:\n",
    "            mant <<= exp - texp\n",
    "        tmant += mant\n",
    "    return float(str(tmant)) * 2.0 ** texp"
   ]
  },
  {
   "cell_type": "code",
   "execution_count": 22,
   "id": "8e153299-202b-4e80-819b-cbb9de97a78c",
   "metadata": {},
   "outputs": [],
   "source": [
    "from decimal import getcontext, Decimal, Inexact\n",
    "\n",
    "getcontext().traps[Inexact] = True\n",
    "\n",
    "def dsum(iterable):\n",
    "    total = Decimal(0)\n",
    "    for x in iterable:\n",
    "        mant, exp = frexp(x)\n",
    "        mant, exp = int(mant * 2.0 ** 53), exp - 53\n",
    "        while True:\n",
    "            try:\n",
    "                total += mant * Decimal(2) ** exp\n",
    "                break\n",
    "            except Inexact:\n",
    "                getcontext().prec += 1\n",
    "    return float(total)"
   ]
  },
  {
   "cell_type": "code",
   "execution_count": 23,
   "id": "e7aa2995-63e8-4d65-8700-42cfa8a3781b",
   "metadata": {},
   "outputs": [],
   "source": [
    "from fractions import Fraction\n",
    "\n",
    "def frsum(iterable):\n",
    "    return float(sum(map(Fraction.from_float, iterable)))"
   ]
  },
  {
   "cell_type": "code",
   "execution_count": 24,
   "id": "fea88d12-8a5e-4c3c-85ef-aeb4ca707a42",
   "metadata": {},
   "outputs": [],
   "source": [
    "def generate_nilakantha_terms(num_terms):\n",
    "    yield 3\n",
    "    denominator = 1\n",
    "    sign = 1\n",
    "    for i in range(1, num_terms):\n",
    "        denominator = (2 * i) * ((2 * i) +1) * ((2 * i) + 2)\n",
    "        yield sign * (4 / denominator)\n",
    "        sign = -sign"
   ]
  },
  {
   "cell_type": "code",
   "execution_count": 25,
   "id": "a02dc344-d349-45df-8382-31597cec4234",
   "metadata": {},
   "outputs": [
    {
     "name": "stdout",
     "output_type": "stream",
     "text": [
      "error:  0.6540226659999888\n",
      "ksum:  0.7306996669999961\n",
      "msum:  1.4796866249999994\n",
      "lsum:  1.1643227499999966\n",
      "dsum:  2.5620972920000042\n",
      "frsum:  7.223829625000008\n",
      "fsum:  0.5977214579999952\n"
     ]
    }
   ],
   "source": [
    "from math import fsum\n",
    "import timeit\n",
    "\n",
    "if __name__ == \"__main__\":\n",
    "    input = 262144\n",
    "    \n",
    "    print(\"error: \", timeit.timeit(lambda: error(generate_nilakantha_terms(input)), number=10))\n",
    "    print(\"ksum: \", timeit.timeit(lambda: ksum(generate_nilakantha_terms(input)), number=10))\n",
    "    print(\"msum: \", timeit.timeit(lambda: msum(generate_nilakantha_terms(input)), number=10))\n",
    "    print(\"lsum: \", timeit.timeit(lambda: lsum(generate_nilakantha_terms(input)), number=10))\n",
    "    print(\"dsum: \", timeit.timeit(lambda: dsum(generate_nilakantha_terms(input)), number=10))\n",
    "    print(\"frsum: \", timeit.timeit(lambda: frsum(generate_nilakantha_terms(input)), number=10))\n",
    "    print(\"fsum: \", timeit.timeit(lambda: fsum(generate_nilakantha_terms(input)), number=10))"
   ]
  },
  {
   "cell_type": "code",
   "execution_count": null,
   "id": "eca74ba3-5354-4b91-a32b-0deec356fac3",
   "metadata": {},
   "outputs": [],
   "source": []
  }
 ],
 "metadata": {
  "kernelspec": {
   "display_name": "Python 3 (ipykernel)",
   "language": "python",
   "name": "python3"
  },
  "language_info": {
   "codemirror_mode": {
    "name": "ipython",
    "version": 3
   },
   "file_extension": ".py",
   "mimetype": "text/x-python",
   "name": "python",
   "nbconvert_exporter": "python",
   "pygments_lexer": "ipython3",
   "version": "3.9.7"
  }
 },
 "nbformat": 4,
 "nbformat_minor": 5
}
