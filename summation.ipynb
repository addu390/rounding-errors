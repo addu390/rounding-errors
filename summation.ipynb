{
 "cells": [
  {
   "cell_type": "code",
   "execution_count": 19,
   "id": "43160acd-6dad-4f3f-aa6e-fe9837afc5b3",
   "metadata": {},
   "outputs": [
    {
     "name": "stdout",
     "output_type": "stream",
     "text": [
      "0.9999999999999999\n"
     ]
    }
   ],
   "source": [
    "def error(iterable):\n",
    "    s = 0.0\n",
    "    for i in iterable:\n",
    "        s = s + i\n",
    "    return s\n",
    "\n",
    "print(error([0.1] * 10))"
   ]
  },
  {
   "cell_type": "code",
   "execution_count": 20,
   "id": "81c8907d-1983-47ed-83a8-f8de70175773",
   "metadata": {},
   "outputs": [
    {
     "name": "stdout",
     "output_type": "stream",
     "text": [
      "1.0\n"
     ]
    }
   ],
   "source": [
    "def ksum(iterable):\n",
    "    s = 0.0\n",
    "    c = 0.0\n",
    "    for f in iterable:\n",
    "        y = f - c\n",
    "        t = s + y\n",
    "        c = (t - s) - y\n",
    "        s = t\n",
    "    return s\n",
    "\n",
    "print(ksum([0.1] * 10))"
   ]
  },
  {
   "cell_type": "code",
   "execution_count": 21,
   "id": "9df1ca62-4496-4c85-89a0-fb881de210ff",
   "metadata": {},
   "outputs": [
    {
     "name": "stdout",
     "output_type": "stream",
     "text": [
      "1.0\n"
     ]
    }
   ],
   "source": [
    "def msum(iterable):\n",
    "    partials = []\n",
    "    for x in iterable:\n",
    "        i = 0\n",
    "        for y in partials:\n",
    "            if abs(x) < abs(y):\n",
    "                x, y = y, x\n",
    "            hi = x + y\n",
    "            lo = y - (hi - x)\n",
    "            if lo:\n",
    "                partials[i] = lo\n",
    "                i += 1\n",
    "            x = hi\n",
    "        partials[i:] = [x]\n",
    "    return sum(partials, 0.0)\n",
    "\n",
    "print(msum([0.1] * 10))"
   ]
  },
  {
   "cell_type": "code",
   "execution_count": 22,
   "id": "64f57e5e-285a-429f-b591-90132f4c2f08",
   "metadata": {},
   "outputs": [
    {
     "name": "stdout",
     "output_type": "stream",
     "text": [
      "1.0\n"
     ]
    }
   ],
   "source": [
    "from math import frexp\n",
    "\n",
    "def lsum(iterable):\n",
    "    tmant, texp = 0, 0\n",
    "    for x in iterable:\n",
    "        mant, exp = frexp(x)\n",
    "        mant, exp = int(mant * 2.0 ** 53), exp - 53\n",
    "        if texp > exp:\n",
    "            tmant <<= texp - exp\n",
    "            texp = exp\n",
    "        else:\n",
    "            mant <<= exp - texp\n",
    "        tmant += mant\n",
    "    return float(str(tmant)) * 2.0 ** texp\n",
    "\n",
    "print(lsum([0.1] * 10))"
   ]
  },
  {
   "cell_type": "code",
   "execution_count": 23,
   "id": "8e153299-202b-4e80-819b-cbb9de97a78c",
   "metadata": {},
   "outputs": [
    {
     "name": "stdout",
     "output_type": "stream",
     "text": [
      "1.0\n"
     ]
    }
   ],
   "source": [
    "from decimal import getcontext, Decimal, Inexact\n",
    "\n",
    "getcontext().traps[Inexact] = True\n",
    "\n",
    "def dsum(iterable):\n",
    "    total = Decimal(0)\n",
    "    for x in iterable:\n",
    "        mant, exp = frexp(x)\n",
    "        mant, exp = int(mant * 2.0 ** 53), exp - 53\n",
    "        while True:\n",
    "            try:\n",
    "                total += mant * Decimal(2) ** exp\n",
    "                break\n",
    "            except Inexact:\n",
    "                getcontext().prec += 1\n",
    "    return float(total)\n",
    "\n",
    "print(dsum([0.1] * 10))"
   ]
  },
  {
   "cell_type": "code",
   "execution_count": 24,
   "id": "e7aa2995-63e8-4d65-8700-42cfa8a3781b",
   "metadata": {},
   "outputs": [
    {
     "name": "stdout",
     "output_type": "stream",
     "text": [
      "1.0\n"
     ]
    }
   ],
   "source": [
    "from fractions import Fraction\n",
    "\n",
    "def frsum(iterable):\n",
    "    return float(sum(map(Fraction.from_float, iterable)))\n",
    "\n",
    "print(frsum([0.1] * 10))"
   ]
  },
  {
   "cell_type": "code",
   "execution_count": 25,
   "id": "a02dc344-d349-45df-8382-31597cec4234",
   "metadata": {},
   "outputs": [
    {
     "name": "stdout",
     "output_type": "stream",
     "text": [
      "229 ns ± 0.181 ns per loop (mean ± std. dev. of 7 runs, 1,000,000 loops each)\n",
      "596 ns ± 10.4 ns per loop (mean ± std. dev. of 7 runs, 1,000,000 loops each)\n",
      "2.35 µs ± 5.34 ns per loop (mean ± std. dev. of 7 runs, 100,000 loops each)\n",
      "6.59 µs ± 29.8 ns per loop (mean ± std. dev. of 7 runs, 100,000 loops each)\n",
      "19 µs ± 25.7 ns per loop (mean ± std. dev. of 7 runs, 100,000 loops each)\n",
      "180 ns ± 0.135 ns per loop (mean ± std. dev. of 7 runs, 10,000,000 loops each)\n"
     ]
    }
   ],
   "source": [
    "from math import fsum\n",
    "\n",
    "def driver():\n",
    "    input = [0.1] * 10\n",
    "    \n",
    "    %timeit error(input)\n",
    "    %timeit ksum(input)\n",
    "    %timeit msum(input)\n",
    "    %timeit dsum(input)\n",
    "    %timeit frsum(input)\n",
    "    %timeit fsum(input)\n",
    "    \n",
    "driver()"
   ]
  },
  {
   "cell_type": "code",
   "execution_count": null,
   "id": "eca74ba3-5354-4b91-a32b-0deec356fac3",
   "metadata": {},
   "outputs": [],
   "source": []
  }
 ],
 "metadata": {
  "kernelspec": {
   "display_name": "Python 3 (ipykernel)",
   "language": "python",
   "name": "python3"
  },
  "language_info": {
   "codemirror_mode": {
    "name": "ipython",
    "version": 3
   },
   "file_extension": ".py",
   "mimetype": "text/x-python",
   "name": "python",
   "nbconvert_exporter": "python",
   "pygments_lexer": "ipython3",
   "version": "3.9.7"
  }
 },
 "nbformat": 4,
 "nbformat_minor": 5
}
