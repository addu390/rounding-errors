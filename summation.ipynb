{
 "cells": [
  {
   "cell_type": "code",
   "execution_count": 1,
   "id": "43160acd-6dad-4f3f-aa6e-fe9837afc5b3",
   "metadata": {},
   "outputs": [],
   "source": [
    "def error(iterable):\n",
    "    s = 0.0\n",
    "    for i in iterable:\n",
    "        s = s + i\n",
    "    return s"
   ]
  },
  {
   "cell_type": "code",
   "execution_count": 2,
   "id": "81c8907d-1983-47ed-83a8-f8de70175773",
   "metadata": {},
   "outputs": [],
   "source": [
    "def ksum(iterable):\n",
    "    s = 0.0\n",
    "    c = 0.0\n",
    "    for f in iterable:\n",
    "        y = f - c\n",
    "        t = s + y\n",
    "        c = (t - s) - y\n",
    "        s = t\n",
    "    return s"
   ]
  },
  {
   "cell_type": "code",
   "execution_count": 3,
   "id": "9df1ca62-4496-4c85-89a0-fb881de210ff",
   "metadata": {},
   "outputs": [],
   "source": [
    "def msum(iterable):\n",
    "    partials = []\n",
    "    for x in iterable:\n",
    "        i = 0\n",
    "        for y in partials:\n",
    "            if abs(x) < abs(y):\n",
    "                x, y = y, x\n",
    "            hi = x + y\n",
    "            lo = y - (hi - x)\n",
    "            if lo:\n",
    "                partials[i] = lo\n",
    "                i += 1\n",
    "            x = hi\n",
    "        partials[i:] = [x]\n",
    "    return sum(partials, 0.0)"
   ]
  },
  {
   "cell_type": "code",
   "execution_count": 4,
   "id": "64f57e5e-285a-429f-b591-90132f4c2f08",
   "metadata": {},
   "outputs": [],
   "source": [
    "from math import frexp\n",
    "\n",
    "def lsum(iterable):\n",
    "    tmant, texp = 0, 0\n",
    "    for x in iterable:\n",
    "        mant, exp = frexp(x)\n",
    "        mant, exp = int(mant * 2.0 ** 53), exp - 53\n",
    "        if texp > exp:\n",
    "            tmant <<= texp - exp\n",
    "            texp = exp\n",
    "        else:\n",
    "            mant <<= exp - texp\n",
    "        tmant += mant\n",
    "    return float(str(tmant)) * 2.0 ** texp"
   ]
  },
  {
   "cell_type": "code",
   "execution_count": 5,
   "id": "8e153299-202b-4e80-819b-cbb9de97a78c",
   "metadata": {},
   "outputs": [],
   "source": [
    "from decimal import getcontext, Decimal, Inexact\n",
    "\n",
    "getcontext().traps[Inexact] = True\n",
    "\n",
    "def dsum(iterable):\n",
    "    total = Decimal(0)\n",
    "    for x in iterable:\n",
    "        mant, exp = frexp(x)\n",
    "        mant, exp = int(mant * 2.0 ** 53), exp - 53\n",
    "        while True:\n",
    "            try:\n",
    "                total += mant * Decimal(2) ** exp\n",
    "                break\n",
    "            except Inexact:\n",
    "                getcontext().prec += 1\n",
    "    return float(total)"
   ]
  },
  {
   "cell_type": "code",
   "execution_count": 6,
   "id": "e7aa2995-63e8-4d65-8700-42cfa8a3781b",
   "metadata": {},
   "outputs": [],
   "source": [
    "from fractions import Fraction\n",
    "\n",
    "def frsum(iterable):\n",
    "    return float(sum(map(Fraction.from_float, iterable)))"
   ]
  },
  {
   "cell_type": "code",
   "execution_count": 7,
   "id": "fea88d12-8a5e-4c3c-85ef-aeb4ca707a42",
   "metadata": {},
   "outputs": [],
   "source": [
    "def generate_nilakantha_terms(num_terms):\n",
    "    yield 3\n",
    "    denominator = 1\n",
    "    sign = 1\n",
    "    for i in range(1, num_terms):\n",
    "        denominator = (2 * i) * ((2 * i) +1) * ((2 * i) + 2)\n",
    "        yield sign * (4 / denominator)\n",
    "        sign = -sign"
   ]
  },
  {
   "cell_type": "code",
   "execution_count": 9,
   "id": "a02dc344-d349-45df-8382-31597cec4234",
   "metadata": {},
   "outputs": [
    {
     "name": "stdout",
     "output_type": "stream",
     "text": [
      "error sum:  Time: 0.635777958999995 | Value: 3.141592653589787\n",
      "ksum:  Time: 0.7200084999999987 | Value: 3.141592653589793\n",
      "msum:  Time: 1.4840021249999964 | Value: 3.141592653589793\n",
      "lsum:  Time: 1.1364392499999951 | Value: 3.141592653589793\n",
      "dsum:  Time: 2.511191416999999 | Value: 3.141592653589793\n",
      "frsum:  Time: 7.1922193750000005 | Value: 3.141592653589793\n",
      "fsum:  Time: 0.5785807499999933 | Value: 3.141592653589793\n"
     ]
    }
   ],
   "source": [
    "from math import fsum\n",
    "import timeit\n",
    "\n",
    "if __name__ == \"__main__\":\n",
    "    input = 262144\n",
    "    print_format = '{} Time: {} | Value: {}'\n",
    "\n",
    "    print(print_format.format('error sum: ', timeit.timeit(lambda: error(generate_nilakantha_terms(input)), number=10),\n",
    "                              error(generate_nilakantha_terms(input))))\n",
    "\n",
    "    print(print_format.format('ksum: ', timeit.timeit(lambda: ksum(generate_nilakantha_terms(input)), number=10),\n",
    "                              ksum(generate_nilakantha_terms(input))))\n",
    "\n",
    "    print(print_format.format('msum: ', timeit.timeit(lambda: msum(generate_nilakantha_terms(input)), number=10),\n",
    "                              msum(generate_nilakantha_terms(input))))\n",
    "\n",
    "    print(print_format.format('lsum: ', timeit.timeit(lambda: lsum(generate_nilakantha_terms(input)), number=10),\n",
    "                              lsum(generate_nilakantha_terms(input))))\n",
    "\n",
    "    print(print_format.format('dsum: ', timeit.timeit(lambda: dsum(generate_nilakantha_terms(input)), number=10),\n",
    "                              dsum(generate_nilakantha_terms(input))))\n",
    "\n",
    "    print(print_format.format('frsum: ', timeit.timeit(lambda: frsum(generate_nilakantha_terms(input)), number=10),\n",
    "                              frsum(generate_nilakantha_terms(input))))\n",
    "\n",
    "    print(print_format.format('fsum: ', timeit.timeit(lambda: fsum(generate_nilakantha_terms(input)), number=10),\n",
    "                              fsum(generate_nilakantha_terms(input))))"
   ]
  },
  {
   "cell_type": "code",
   "execution_count": null,
   "id": "eca74ba3-5354-4b91-a32b-0deec356fac3",
   "metadata": {},
   "outputs": [],
   "source": []
  }
 ],
 "metadata": {
  "kernelspec": {
   "display_name": "Python 3 (ipykernel)",
   "language": "python",
   "name": "python3"
  },
  "language_info": {
   "codemirror_mode": {
    "name": "ipython",
    "version": 3
   },
   "file_extension": ".py",
   "mimetype": "text/x-python",
   "name": "python",
   "nbconvert_exporter": "python",
   "pygments_lexer": "ipython3",
   "version": "3.9.7"
  }
 },
 "nbformat": 4,
 "nbformat_minor": 5
}
